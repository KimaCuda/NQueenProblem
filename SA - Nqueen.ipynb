{
 "cells": [
  {
   "cell_type": "code",
   "execution_count": 1,
   "metadata": {},
   "outputs": [],
   "source": [
    "import matplotlib.pyplot as plt\n",
    "from matplotlib.lines import Line2D\n",
    "import matplotlib.animation as animation\n",
    "from IPython.display import HTML\n",
    "import numpy as np\n",
    "import pandas as pd\n",
    "import copy\n",
    "import math\n",
    "import random as rnd\n",
    "import time\n",
    "%matplotlib inline"
   ]
  },
  {
   "cell_type": "code",
   "execution_count": 2,
   "metadata": {},
   "outputs": [],
   "source": [
    "start_time = time.time()\n",
    "#defining problem's variable\n",
    "chessboard_size = 100\n",
    "#initial temperature\n",
    "T0 = 500\n",
    "#geometrical temperature constant\n",
    "geom = 0.95\n",
    "#controlling variable for number of iteration per temperature changes.\n",
    "a = 0.1\n",
    "#b variable will be the same as chessboard_size\n",
    "#b = 50"
   ]
  },
  {
   "cell_type": "code",
   "execution_count": 3,
   "metadata": {},
   "outputs": [],
   "source": [
    "def fitnesscheck(chessboard):\n",
    "    fitness = 0\n",
    "    x = np.arange(chessboard_size)\n",
    "    y = []\n",
    "    for k in range(chessboard_size):\n",
    "        y.append(chessboard[k,:].tolist().index(0))\n",
    "    y = np.array(y)\n",
    "    for i in range(chessboard_size):\n",
    "        #check 4 diagonal\n",
    "        #diagonal tenggara\n",
    "        for j in range(chessboard_size-1):\n",
    "            try:\n",
    "                if chessboard[x[i]+(j+1)][y[i]+(j+1)] == float(0):\n",
    "                    if x[i]+(j+1) >= 0 and y[i]+(j+1) >= 0:\n",
    "                        #print('tenggara, queen ' + str(x[i]) + ',' +str(y[i]) +' found enemy in ' + str([x[i]+(j+1)]) + ',' + str([y[i]+(j+1)]))\n",
    "                        fitness = fitness + 1\n",
    "            except IndexError:\n",
    "                break\n",
    "        #diagonal barat daya\n",
    "        for j in range(chessboard_size-1):\n",
    "            try:\n",
    "                if chessboard[x[i]+(j+1)][y[i]-(j+1)] == float(0):\n",
    "                    if x[i]+(j+1) >=0 and y[i]-(j+1) >= 0:\n",
    "                        #print('barat daya, queen ' + str(x[i]) + ',' +str(y[i]) +' found enemy in ' + str([x[i]+(j+1)]) + ',' + str([y[i]-(j+1)]))\n",
    "                        fitness = fitness + 1\n",
    "            except IndexError:\n",
    "                break\n",
    "        #diagonal timur laut\n",
    "        for j in range(chessboard_size-1):\n",
    "            try:\n",
    "                if chessboard[x[i]-(j+1)][y[i]+(j+1)] == float(0):\n",
    "                    if x[i]-(j+1) >= 0 and y[i]+(j+1) >= 0:\n",
    "                        #print('timur laut, queen ' + str(x[i]) + ',' +str(y[i]) +' found enemy in ' + str([x[i]-(j+1)]) + ',' + str([y[i]+(j+1)]))\n",
    "                        fitness = fitness + 1\n",
    "            except IndexError:\n",
    "                break\n",
    "        #diagonal barat laut\n",
    "        for j in range(chessboard_size-1):\n",
    "            try:\n",
    "                if chessboard[x[i]-(j+1)][y[i]-(j+1)] == float(0):\n",
    "                    if x[i]-(j+1) >= 0 and y[i]-(j+1) >= 0:\n",
    "                        #print('barat daya, queen ' + str(x[i]) + ',' +str(y[i]) +' found enemy in ' + str([x[i]-(j+1)]) + ',' + str([y[i]-(j+1)]))\n",
    "                        fitness = fitness + 1\n",
    "            except IndexError:\n",
    "                break\n",
    "    return fitness"
   ]
  },
  {
   "cell_type": "code",
   "execution_count": 4,
   "metadata": {},
   "outputs": [],
   "source": [
    "def create_chessboard():\n",
    "    #create chessboard size\n",
    "    chessboard = np.full((chessboard_size**2), 0.5)\n",
    "    #create checkered board\n",
    "    if chessboard_size % 2 != 0:\n",
    "        chessboard[::2] = 1\n",
    "        chessboard = chessboard.reshape((chessboard_size, chessboard_size))\n",
    "    else:\n",
    "        chessboard = chessboard.reshape((chessboard_size, chessboard_size))\n",
    "        for i in range(len(chessboard)):\n",
    "            if (i % 2) != 0:\n",
    "                chessboard[i][1::2] = 1\n",
    "            else:\n",
    "                chessboard[i][::2] = 1\n",
    "    return chessboard"
   ]
  },
  {
   "cell_type": "code",
   "execution_count": 5,
   "metadata": {},
   "outputs": [],
   "source": [
    "def random_placing(chessboard):\n",
    "    #create random placing for queens\n",
    "    x = np.random.permutation(chessboard_size)\n",
    "    y = np.random.permutation(chessboard_size)\n",
    "    for i in range(len(chessboard)):\n",
    "        chessboard[x[i]][y[i]] = 0\n",
    "    return chessboard"
   ]
  },
  {
   "cell_type": "code",
   "execution_count": 6,
   "metadata": {},
   "outputs": [],
   "source": [
    "#change queen position with other queen\n",
    "#for example if there is queen in A8 and B7, they will change places become A7 and B8\n",
    "def change_position(chessboard):\n",
    "    reset = create_chessboard()\n",
    "    queen_number = np.arange(chessboard_size)\n",
    "    random1 = rnd.choice(queen_number)\n",
    "    random2 = rnd.choice(queen_number)\n",
    "    a = chessboard[random1].tolist().index(0)\n",
    "    b = chessboard[:,random2].tolist().index(0)\n",
    "    chessboard[random1][a], chessboard[random1][random2] = chessboard[random1][random2], chessboard[random1][a]\n",
    "    chessboard[b][random2], chessboard[b][a] = chessboard [b][a], chessboard[b][random2]\n",
    "    if a != random2:\n",
    "        chessboard[random1][a] = copy.deepcopy(reset[random1][a])\n",
    "        chessboard[b][random2] = copy.deepcopy(reset[b][random2])\n",
    "    return chessboard"
   ]
  },
  {
   "cell_type": "code",
   "execution_count": 7,
   "metadata": {},
   "outputs": [],
   "source": [
    "#calc difference from last best fitness\n",
    "def fitness_calc(fitness, fitness1):\n",
    "    diff = fitness1 - fitness\n",
    "    return diff"
   ]
  },
  {
   "cell_type": "code",
   "execution_count": 8,
   "metadata": {},
   "outputs": [],
   "source": [
    "#defining Travelling Salesman problem\n",
    "\n",
    "#create a number of iteration per temperature\n",
    "def iter_temp(k):\n",
    "    t = T0*(geom)**k\n",
    "    n_per_temp = round((a*math.fabs(t-T0))) + chessboard_size\n",
    "    return t, n_per_temp\n",
    "\n",
    "#calc difference from last best distance to the distance created now\n",
    "def dist_calc(distance, distance1):\n",
    "    diff = distance1 - distance\n",
    "    return diff\n"
   ]
  },
  {
   "cell_type": "code",
   "execution_count": 9,
   "metadata": {},
   "outputs": [],
   "source": [
    "#create full loop of Simulated Annealing\n",
    "def Simulated_Annealing():\n",
    "    #cities_x, cities_y = createcities()\n",
    "    #cities_df = pd.DataFrame({'x' :cities_x, 'y':cities_y})\n",
    "    \n",
    "    #create random queen placing by calling create_chessboard and random placing function\n",
    "    chessboard = random_placing(create_chessboard())\n",
    "    #calculate fitness using fitness check function\n",
    "    fitness = fitnesscheck(chessboard)\n",
    "    chessboard_list = [chessboard.tolist()]\n",
    "    fitness_list = [fitness]\n",
    "    #variable of iteration to change the temperature after number of iteration (n_per_temp) is done in temperature (t)\n",
    "    k = 0\n",
    "    t = T0\n",
    "    #creating loop while until the temperature is lowered to 0.1\n",
    "    while t > 0.1:\n",
    "        #recalculating temperature with changed k variable to create new t and its n_per_temp\n",
    "        t, n_per_temp = iter_temp(k)\n",
    "        #run iteration for n_per_temp time\n",
    "        for i in range(n_per_temp):\n",
    "            #exchange the queen position by using change_position function\n",
    "            change_pos1 = copy.deepcopy(chessboard)\n",
    "            change_pos2 = change_position(change_pos1)\n",
    "            #recalculate the fitness after changing queen position\n",
    "            fitness1 = fitnesscheck(change_pos2)\n",
    "            #find the fitness difference and then using logical operator to choose whether move or not\n",
    "            diff = fitness_calc(fitness, fitness1)\n",
    "            if diff > 0:\n",
    "                move_prob = math.exp(-diff/t)\n",
    "                rnd_number = rnd.random()\n",
    "                if rnd_number < move_prob:\n",
    "                    chessboard_list.append(change_pos1.tolist())\n",
    "                    chessboard = copy.deepcopy(change_pos1)\n",
    "                    fitness_list.append(fitness1)\n",
    "                    fitness = copy.deepcopy(fitness1)\n",
    "            else:\n",
    "                chessboard_list.append(change_pos1.tolist())\n",
    "                chessboard = copy.deepcopy(change_pos1)\n",
    "                fitness_list.append(fitness1)\n",
    "                fitness = copy.deepcopy(fitness1)\n",
    "        k = k+1\n",
    "    return chessboard, fitness, chessboard_list, fitness_list"
   ]
  },
  {
   "cell_type": "code",
   "execution_count": 10,
   "metadata": {},
   "outputs": [],
   "source": [
    "#create full loop of Simulated Annealing\n",
    "def Simulated_Annealing2():\n",
    "    #cities_x, cities_y = createcities()\n",
    "    #cities_df = pd.DataFrame({'x' :cities_x, 'y':cities_y})\n",
    "    ###chessboard_list2 = []\n",
    "    #iteration convergence check\n",
    "    l = 0\n",
    "    iter_check = 0\n",
    "    last_iter_list = []\n",
    "    #creating loop while until the temperature is lowered to 0.1\n",
    "    while iter_check < 6:\n",
    "        #create random queen placing by calling create_chessboard and random placing function\n",
    "        chessboard = random_placing(create_chessboard())\n",
    "        #calculate fitness using fitness check function\n",
    "        fitness = fitnesscheck(chessboard)\n",
    "        #variable of iteration to change the temperature after number of iteration (n_per_temp) is done in temperature (t)\n",
    "        k = 0\n",
    "        t = T0\n",
    "        ###chessboard_list = [chessboard.tolist()]\n",
    "        while t > 0.1:\n",
    "            #recalculating temperature with changed k variable to create new t and its n_per_temp\n",
    "            t, n_per_temp = iter_temp(k)\n",
    "            #run iteration for n_per_temp time\n",
    "            for i in range(n_per_temp):\n",
    "                #exchange the queen position by using change_position function\n",
    "                change_pos1 = copy.deepcopy(chessboard)\n",
    "                change_pos2 = change_position(change_pos1)\n",
    "                #recalculate the fitness after changing queen position\n",
    "                fitness1 = fitnesscheck(change_pos2)\n",
    "                #find the fitness difference and then using logical operator to choose whether move or not\n",
    "                diff = fitness_calc(fitness, fitness1)\n",
    "                if diff > 0:\n",
    "                    move_prob = math.exp(-diff/t)\n",
    "                    rnd_number = rnd.random()\n",
    "                    if rnd_number < move_prob:\n",
    "                        ###chessboard_list.append(change_pos2.tolist())\n",
    "                        chessboard = copy.deepcopy(change_pos2)\n",
    "                        fitness = copy.deepcopy(fitness1)\n",
    "                else:\n",
    "                    ###chessboard_list.append(change_pos2.tolist())\n",
    "                    chessboard = copy.deepcopy(change_pos2)\n",
    "                    fitness = copy.deepcopy(fitness1)\n",
    "            k = k+1\n",
    "        if len(last_iter_list) == 0:\n",
    "            last_iter_list.append(change_pos2.tolist())\n",
    "            l = l + 1\n",
    "        else:\n",
    "            x = []\n",
    "            for i in range(len(last_iter_list)):\n",
    "                x.append(last_iter_list[i] == change_pos2.tolist())\n",
    "            if all(x) == False:\n",
    "                last_iter_list.append(change_pos2.tolist())\n",
    "                l = l + 1\n",
    "            else:\n",
    "                iter_check = iter_check + 1\n",
    "        ###chessboard_list2.append(chessboard_list)     \n",
    "    return l, last_iter_list"
   ]
  },
  {
   "cell_type": "code",
   "execution_count": null,
   "metadata": {},
   "outputs": [],
   "source": [
    "#Calling the Main function code to run the Simulated Annealing program and returning the list of it's route from first\n",
    "#to last iteration\n",
    "x, y, z, aa = Simulated_Annealing()"
   ]
  },
  {
   "cell_type": "code",
   "execution_count": null,
   "metadata": {},
   "outputs": [],
   "source": [
    "x"
   ]
  },
  {
   "cell_type": "code",
   "execution_count": null,
   "metadata": {},
   "outputs": [],
   "source": [
    "y"
   ]
  },
  {
   "cell_type": "code",
   "execution_count": null,
   "metadata": {},
   "outputs": [],
   "source": [
    "aa_array = np.array(aa)"
   ]
  },
  {
   "cell_type": "code",
   "execution_count": null,
   "metadata": {},
   "outputs": [],
   "source": [
    "aa_array = aa_array / 2"
   ]
  },
  {
   "cell_type": "code",
   "execution_count": null,
   "metadata": {},
   "outputs": [],
   "source": [
    "aa = aa_array.tolist()"
   ]
  },
  {
   "cell_type": "code",
   "execution_count": null,
   "metadata": {},
   "outputs": [],
   "source": [
    "aa_df = pd.DataFrame(aa, columns = ['Value'])"
   ]
  },
  {
   "cell_type": "code",
   "execution_count": null,
   "metadata": {},
   "outputs": [],
   "source": [
    "#Calling the Main function code to run the Simulated Annealing program and returning the list of it's route from first\n",
    "#to last iteration\n",
    "#x, y = Simulated_Annealing2()"
   ]
  },
  {
   "cell_type": "code",
   "execution_count": null,
   "metadata": {},
   "outputs": [],
   "source": [
    "print(\"--- %s seconds ---\" % (time.time() - start_time))"
   ]
  },
  {
   "cell_type": "code",
   "execution_count": null,
   "metadata": {},
   "outputs": [],
   "source": [
    "#Creating plot for last Simulated Annealing\n",
    "fig = plt.figure(figsize = (20,20))\n",
    "ax = fig.add_subplot(111)\n",
    "ax.matshow(z[-1], cmap = \"RdGy\")\n",
    "x = np.arange(chessboard_size)\n",
    "y = []\n",
    "for k in range(chessboard_size):\n",
    "    y.append(np.array(z[-1])[k,:].tolist().index(0))\n",
    "y = np.array(y)\n",
    "for i in range(len(z[-1])):\n",
    "    ax.text(y[i] ,x[i], s=u\"\\u2655\", fontsize = 50, color = 'white', va='center', ha='center')"
   ]
  },
  {
   "cell_type": "code",
   "execution_count": null,
   "metadata": {
    "scrolled": false
   },
   "outputs": [],
   "source": [
    "#Creating Simulated Annealing Animation\n",
    "fig = plt.figure(figsize = (20,20))\n",
    "ax = fig.add_subplot(221)\n",
    "#ax.set_xlim((0, 60))\n",
    "#ax.set_ylim((0, 60))\n",
    "ax.axes.get_xaxis().set_visible(False)\n",
    "ax.axes.get_yaxis().set_visible(False)\n",
    "queen = ax.matshow(z[0], cmap=\"RdGy\")\n",
    "\n",
    "ax = fig.add_subplot(222)\n",
    "ax.set_xlim((0, 7000))\n",
    "ax.set_ylim((0, 30))\n",
    "#ax.axes.get_xaxis().set_visible(False)\n",
    "#ax.axes.get_yaxis().set_visible(False)\n",
    "convergence, = ax.plot([] , [], color = 'red', lw = 2)\n",
    "'''x = np.arange(chessboard_size)\n",
    "y = []\n",
    "for k in range(chessboard_size):\n",
    "    y.append(np.array(z[0])[k,:].tolist().index(0))\n",
    "y = np.array(y)\n",
    "set_queens = [ax.text(y[i] ,x[i] , s=u\"\\u2655\", fontsize = 50, color = 'white', va='center', ha='center') for i in range(len(z[0]))]\n",
    "'''"
   ]
  },
  {
   "cell_type": "code",
   "execution_count": null,
   "metadata": {},
   "outputs": [],
   "source": [
    "def update(i):\n",
    "    '''x = np.arange(chessboard_size)\n",
    "    y = []\n",
    "    for k in range(chessboard_size):\n",
    "        y.append(np.array(z[i])[k,:].tolist().index(0))\n",
    "    y = np.array(y)'''\n",
    "    queen.set_data(z[i])\n",
    "    convergence.set_data(aa_df.index[i], aa_df['Value'][i])\n",
    "    #set_queens = [ax.text(y[j] ,x[j] , s=u\"\\u2655\", fontsize = 50, color = 'white', va='center', ha='center') for j in range(len(z[0]))]\n",
    "    return queen, convergence#, set_queens\n",
    "\n",
    "#because there are so many frame, I reduced the frame to be animated to around 400 frame\n",
    "frame_step = len(z)//200\n",
    "ani = animation.FuncAnimation(fig, update, frames = range(0, len(z), frame_step), interval=100, blit = False)"
   ]
  },
  {
   "cell_type": "code",
   "execution_count": null,
   "metadata": {
    "scrolled": false
   },
   "outputs": [],
   "source": [
    "HTML(ani.to_jshtml())"
   ]
  },
  {
   "cell_type": "code",
   "execution_count": null,
   "metadata": {},
   "outputs": [],
   "source": [
    "print(\"--- %s seconds ---\" % (time.time() - start_time))"
   ]
  },
  {
   "cell_type": "code",
   "execution_count": null,
   "metadata": {},
   "outputs": [],
   "source": [
    "#ani.save('./animation.gif', writer='imagemagick', fps=10)"
   ]
  }
 ],
 "metadata": {
  "kernelspec": {
   "display_name": "Python 3",
   "language": "python",
   "name": "python3"
  },
  "language_info": {
   "codemirror_mode": {
    "name": "ipython",
    "version": 3
   },
   "file_extension": ".py",
   "mimetype": "text/x-python",
   "name": "python",
   "nbconvert_exporter": "python",
   "pygments_lexer": "ipython3",
   "version": "3.6.4"
  }
 },
 "nbformat": 4,
 "nbformat_minor": 2
}
